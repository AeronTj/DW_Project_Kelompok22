{
 "cells": [
  {
   "cell_type": "markdown",
   "id": "c30b87dd",
   "metadata": {},
   "source": [
    "# PT XYZ Data Warehouse Analysis\n",
    "\n",
    "This notebook provides analysis capabilities for the PT XYZ mining data warehouse."
   ]
  },
  {
   "cell_type": "code",
   "execution_count": null,
   "id": "234139ed",
   "metadata": {},
   "outputs": [],
   "source": [
    "import pandas as pd\n",
    "import numpy as np\n",
    "import matplotlib.pyplot as plt\n",
    "import seaborn as sns\n",
    "import pyodbc\n",
    "from sqlalchemy import create_engine\n",
    "import warnings\n",
    "warnings.filterwarnings('ignore')\n",
    "\n",
    "# Set plotting style\n",
    "plt.style.use('default')\n",
    "sns.set_palette(\"husl\")"
   ]
  },
  {
   "cell_type": "markdown",
   "id": "483cb814",
   "metadata": {},
   "source": [
    "## Database Connection Setup"
   ]
  },
  {
   "cell_type": "code",
   "execution_count": null,
   "id": "d7b65b4c",
   "metadata": {},
   "outputs": [],
   "source": [
    "# Database connection parameters\n",
    "server = 'sqlserver,1433'\n",
    "database = 'DW_PTXYZ'\n",
    "username = 'sa'\n",
    "password = 'PTXYZDataWarehouse2025!'\n",
    "\n",
    "# Create connection string\n",
    "conn_str = f'mssql+pyodbc://{username}:{password}@{server}/{database}?driver=ODBC+Driver+17+for+SQL+Server'\n",
    "engine = create_engine(conn_str)\n",
    "\n",
    "print(\"Database connection configured successfully!\")"
   ]
  },
  {
   "cell_type": "markdown",
   "id": "535f087e",
   "metadata": {},
   "source": [
    "## Data Loading and Analysis"
   ]
  },
  {
   "cell_type": "code",
   "execution_count": null,
   "id": "99d99265",
   "metadata": {},
   "outputs": [],
   "source": [
    "# Load data from CSV files for initial analysis\n",
    "try:\n",
    "    production_df = pd.read_csv('/home/jovyan/work/data/dataset_production.csv')\n",
    "    equipment_df = pd.read_csv('/home/jovyan/work/data/dataset_alat_berat_dw.csv')\n",
    "    \n",
    "    print(\"Production Data Shape:\", production_df.shape)\n",
    "    print(\"Equipment Data Shape:\", equipment_df.shape)\n",
    "    \n",
    "    print(\"\\nProduction Data Columns:\")\n",
    "    print(production_df.columns.tolist())\n",
    "    \n",
    "    print(\"\\nEquipment Data Columns:\")\n",
    "    print(equipment_df.columns.tolist())\n",
    "    \n",
    "except Exception as e:\n",
    "    print(f\"Error loading data: {e}\")"
   ]
  },
  {
   "cell_type": "code",
   "execution_count": null,
   "id": "5444c4ed",
   "metadata": {},
   "outputs": [],
   "source": [
    "# Display first few rows of production data\n",
    "if 'production_df' in locals():\n",
    "    display(production_df.head())\n",
    "    print(\"\\nProduction Data Info:\")\n",
    "    production_df.info()"
   ]
  },
  {
   "cell_type": "code",
   "execution_count": null,
   "id": "5be39fe7",
   "metadata": {},
   "outputs": [],
   "source": [
    "# Display first few rows of equipment data\n",
    "if 'equipment_df' in locals():\n",
    "    display(equipment_df.head())\n",
    "    print(\"\\nEquipment Data Info:\")\n",
    "    equipment_df.info()"
   ]
  },
  {
   "cell_type": "markdown",
   "id": "936bb966",
   "metadata": {},
   "source": [
    "## Production Analysis"
   ]
  },
  {
   "cell_type": "code",
   "execution_count": null,
   "id": "e69a9185",
   "metadata": {},
   "outputs": [],
   "source": [
    "# Production analysis visualizations\n",
    "if 'production_df' in locals() and not production_df.empty:\n",
    "    fig, axes = plt.subplots(2, 2, figsize=(15, 10))\n",
    "    fig.suptitle('PT XYZ Production Analysis', fontsize=16)\n",
    "    \n",
    "    # Example plots - adjust based on actual data columns\n",
    "    # You'll need to modify these based on your actual data structure\n",
    "    \n",
    "    # Plot 1: Production over time (if date column exists)\n",
    "    if 'date' in production_df.columns:\n",
    "        production_df['date'] = pd.to_datetime(production_df['date'])\n",
    "        daily_production = production_df.groupby('date').sum()\n",
    "        axes[0,0].plot(daily_production.index, daily_production.iloc[:,0])\n",
    "        axes[0,0].set_title('Daily Production Trend')\n",
    "        axes[0,0].tick_params(axis='x', rotation=45)\n",
    "    \n",
    "    # Plot 2: Production by material type (if material column exists)\n",
    "    if 'material' in production_df.columns:\n",
    "        material_production = production_df.groupby('material').sum()\n",
    "        axes[0,1].bar(material_production.index, material_production.iloc[:,0])\n",
    "        axes[0,1].set_title('Production by Material Type')\n",
    "        axes[0,1].tick_params(axis='x', rotation=45)\n",
    "    \n",
    "    # Plot 3: Production distribution\n",
    "    numeric_cols = production_df.select_dtypes(include=[np.number]).columns\n",
    "    if len(numeric_cols) > 0:\n",
    "        axes[1,0].hist(production_df[numeric_cols[0]], bins=20, alpha=0.7)\n",
    "        axes[1,0].set_title(f'Distribution of {numeric_cols[0]}')\n",
    "    \n",
    "    # Plot 4: Correlation heatmap\n",
    "    if len(numeric_cols) > 1:\n",
    "        corr_matrix = production_df[numeric_cols].corr()\n",
    "        sns.heatmap(corr_matrix, annot=True, ax=axes[1,1], cmap='coolwarm')\n",
    "        axes[1,1].set_title('Production Data Correlation')\n",
    "    \n",
    "    plt.tight_layout()\n",
    "    plt.show()"
   ]
  },
  {
   "cell_type": "markdown",
   "id": "f8d42774",
   "metadata": {},
   "source": [
    "## Equipment Analysis"
   ]
  },
  {
   "cell_type": "code",
   "execution_count": null,
   "id": "a1a0870b",
   "metadata": {},
   "outputs": [],
   "source": [
    "# Equipment analysis visualizations\n",
    "if 'equipment_df' in locals() and not equipment_df.empty:\n",
    "    fig, axes = plt.subplots(2, 2, figsize=(15, 10))\n",
    "    fig.suptitle('PT XYZ Equipment Analysis', fontsize=16)\n",
    "    \n",
    "    numeric_cols = equipment_df.select_dtypes(include=[np.number]).columns\n",
    "    \n",
    "    if len(numeric_cols) >= 2:\n",
    "        # Equipment efficiency scatter plot\n",
    "        axes[0,0].scatter(equipment_df[numeric_cols[0]], equipment_df[numeric_cols[1]], alpha=0.6)\n",
    "        axes[0,0].set_xlabel(numeric_cols[0])\n",
    "        axes[0,0].set_ylabel(numeric_cols[1])\n",
    "        axes[0,0].set_title('Equipment Performance Scatter')\n",
    "        \n",
    "        # Equipment utilization distribution\n",
    "        axes[0,1].hist(equipment_df[numeric_cols[0]], bins=15, alpha=0.7, color='orange')\n",
    "        axes[0,1].set_title(f'Distribution of {numeric_cols[0]}')\n",
    "        \n",
    "        # Box plot for equipment performance\n",
    "        axes[1,0].boxplot([equipment_df[col].dropna() for col in numeric_cols[:3]], \n",
    "                         labels=numeric_cols[:3])\n",
    "        axes[1,0].set_title('Equipment Performance Box Plot')\n",
    "        axes[1,0].tick_params(axis='x', rotation=45)\n",
    "        \n",
    "        # Correlation heatmap\n",
    "        if len(numeric_cols) > 2:\n",
    "            corr_matrix = equipment_df[numeric_cols].corr()\n",
    "            sns.heatmap(corr_matrix, annot=True, ax=axes[1,1], cmap='viridis')\n",
    "            axes[1,1].set_title('Equipment Data Correlation')\n",
    "    \n",
    "    plt.tight_layout()\n",
    "    plt.show()"
   ]
  },
  {
   "cell_type": "markdown",
   "id": "45ba633e",
   "metadata": {},
   "source": [
    "## SQL Queries for Data Warehouse Analysis"
   ]
  },
  {
   "cell_type": "code",
   "execution_count": null,
   "id": "be8684ea",
   "metadata": {},
   "outputs": [],
   "source": [
    "# Example SQL queries for data warehouse analysis\n",
    "queries = {\n",
    "    'production_summary': \"\"\"\n",
    "        SELECT \n",
    "            material_name,\n",
    "            SUM(volume_produced) as total_production,\n",
    "            AVG(volume_produced) as avg_production\n",
    "        FROM fact_production fp\n",
    "        JOIN dim_material dm ON fp.material_key = dm.material_key\n",
    "        GROUP BY material_name\n",
    "        ORDER BY total_production DESC\n",
    "    \"\"\",\n",
    "    \n",
    "    'equipment_utilization': \"\"\"\n",
    "        SELECT \n",
    "            equipment_name,\n",
    "            equipment_type,\n",
    "            SUM(operating_hours) as total_operating_hours,\n",
    "            SUM(idle_hours) as total_idle_hours,\n",
    "            (SUM(operating_hours) / (SUM(operating_hours) + SUM(idle_hours)) * 100) as utilization_percent\n",
    "        FROM fact_equipment_usage feu\n",
    "        JOIN dim_equipment de ON feu.equipment_key = de.equipment_key\n",
    "        GROUP BY equipment_name, equipment_type\n",
    "        ORDER BY utilization_percent DESC\n",
    "    \"\"\",\n",
    "    \n",
    "    'monthly_production': \"\"\"\n",
    "        SELECT \n",
    "            dt.year,\n",
    "            dt.month,\n",
    "            SUM(fp.volume_produced) as monthly_production\n",
    "        FROM fact_production fp\n",
    "        JOIN dim_time dt ON fp.time_key = dt.time_key\n",
    "        GROUP BY dt.year, dt.month\n",
    "        ORDER BY dt.year, dt.month\n",
    "    \"\"\"\n",
    "}\n",
    "\n",
    "# Execute queries (uncomment when database is ready)\n",
    "# for query_name, query in queries.items():\n",
    "#     try:\n",
    "#         result = pd.read_sql(query, engine)\n",
    "#         print(f\"\\n{query_name.upper()} RESULTS:\")\n",
    "#         display(result)\n",
    "#     except Exception as e:\n",
    "#         print(f\"Error executing {query_name}: {e}\")\n",
    "\n",
    "print(\"SQL queries defined. Uncomment the execution block when database is ready.\")"
   ]
  },
  {
   "cell_type": "markdown",
   "id": "d7e00e1e",
   "metadata": {},
   "source": [
    "## Summary Statistics"
   ]
  },
  {
   "cell_type": "code",
   "execution_count": null,
   "id": "89f99b91",
   "metadata": {},
   "outputs": [],
   "source": [
    "# Generate summary statistics\n",
    "print(\"=== PT XYZ DATA WAREHOUSE SUMMARY ===\")\n",
    "\n",
    "if 'production_df' in locals():\n",
    "    print(f\"\\nProduction Data:\")\n",
    "    print(f\"- Total records: {len(production_df)}\")\n",
    "    print(f\"- Columns: {len(production_df.columns)}\")\n",
    "    numeric_cols = production_df.select_dtypes(include=[np.number]).columns\n",
    "    if len(numeric_cols) > 0:\n",
    "        print(f\"- Numeric columns summary:\")\n",
    "        display(production_df[numeric_cols].describe())\n",
    "\n",
    "if 'equipment_df' in locals():\n",
    "    print(f\"\\nEquipment Data:\")\n",
    "    print(f\"- Total records: {len(equipment_df)}\")\n",
    "    print(f\"- Columns: {len(equipment_df.columns)}\")\n",
    "    numeric_cols = equipment_df.select_dtypes(include=[np.number]).columns\n",
    "    if len(numeric_cols) > 0:\n",
    "        print(f\"- Numeric columns summary:\")\n",
    "        display(equipment_df[numeric_cols].describe())"
   ]
  }
 ],
 "metadata": {
  "language_info": {
   "name": "python"
  }
 },
 "nbformat": 4,
 "nbformat_minor": 5
}
